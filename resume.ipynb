{
 "cells": [
  {
   "cell_type": "code",
   "execution_count": 16,
   "metadata": {},
   "outputs": [],
   "source": [
    "\n",
    "from langchain.prompts import PromptTemplate\n",
    "from langchain.chains import LLMChain\n",
    "\n",
    "from dotenv import load_dotenv\n",
    "load_dotenv()  # Charge les variables d'environnement depuis .env\n",
    "import os\n",
    "from pprint import pprint\n",
    "GROQ_API_KEY = \"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\""
   ]
  },
  {
   "cell_type": "code",
   "execution_count": null,
   "metadata": {},
   "outputs": [
    {
     "name": "stderr",
     "output_type": "stream",
     "text": [
      "c:\\Users\\admin\\Documents\\Folder\\p3\\git_ee\\env\\lib\\site-packages\\langchain_groq\\chat_models.py:364: UserWarning: WARNING! max_completion_tokens is not default parameter.\n",
      "                    max_completion_tokens was transferred to model_kwargs.\n",
      "                    Please confirm that max_completion_tokens is what you intended.\n",
      "  warnings.warn(\n"
     ]
    }
   ],
   "source": [
    "from langchain_groq import ChatGroq\n",
    "\n",
    "llm = ChatGroq(\n",
    "    model=\"llama-3.1-8b-instant\",\n",
    "    temperature=0.4,\n",
    "    max_tokens=None,\n",
    "    timeout=None,\n",
    "    max_retries=2,\n",
    "    max_completion_tokens = 380\n",
    "    # other params...\n",
    ")\n"
   ]
  },
  {
   "cell_type": "code",
   "execution_count": 10,
   "metadata": {},
   "outputs": [
    {
     "data": {
      "text/plain": [
       "['InputType', 'OutputType', '__abstractmethods__', '__annotations__', '__call__', '__class__', '__class_getitem__', '__class_vars__', '__copy__', '__deepcopy__', '__delattr__', '__dict__', '__dir__', '__doc__', '__eq__', '__fields__', '__fields_set__', '__format__', '__ge__', '__get_pydantic_core_schema__', '__get_pydantic_json_schema__', '__getattr__', '__getattribute__', '__getstate__', '__gt__', '__hash__', '__init__', '__init_subclass__', '__iter__', '__le__', '__lt__', '__module__', '__ne__', '__new__', '__or__', '__orig_bases__', '__parameters__', '__pretty__', '__private_attributes__', '__pydantic_complete__', '__pydantic_computed_fields__', '__pydantic_core_schema__', '__pydantic_custom_init__', '__pydantic_decorators__', '__pydantic_extra__', '__pydantic_fields__', '__pydantic_fields_set__', '__pydantic_generic_metadata__', '__pydantic_init_subclass__', '__pydantic_parent_namespace__', '__pydantic_post_init__', '__pydantic_private__', '__pydantic_root_model__', '__pydantic_serializer__', '__pydantic_validator__', '__reduce__', '__reduce_ex__', '__replace__', '__repr__', '__repr_args__', '__repr_name__', '__repr_recursion__', '__repr_str__', '__rich_repr__', '__ror__', '__setattr__', '__setstate__', '__signature__', '__sizeof__', '__slots__', '__str__', '__subclasshook__', '__weakref__', '_abatch_with_config', '_abc_impl', '_acall_with_config', '_agenerate', '_agenerate_with_cache', '_all_required_field_names', '_astream', '_atransform_stream_with_config', '_batch_with_config', '_calculate_keys', '_call_async', '_call_with_config', '_check_frozen', '_combine_llm_outputs', '_convert_input', '_copy_and_set_values', '_create_chat_result', '_create_message_dicts', '_default_params', '_generate', '_generate_with_cache', '_get_invocation_params', '_get_llm_string', '_get_ls_params', '_get_value', '_identifying_params', '_is_protocol', '_iter', '_llm_type', '_serialized', '_should_stream', '_stream', '_transform_stream_with_config', 'abatch', 'abatch_as_completed', 'agenerate', 'agenerate_prompt', 'ainvoke', 'apredict', 'apredict_messages', 'as_tool', 'assign', 'astream', 'astream_events', 'astream_log', 'async_client', 'atransform', 'batch', 'batch_as_completed', 'bind', 'bind_functions', 'bind_tools', 'build_extra', 'cache', 'call_as_llm', 'callback_manager', 'callbacks', 'client', 'config_schema', 'config_specs', 'configurable_alternatives', 'configurable_fields', 'construct', 'copy', 'custom_get_token_ids', 'default_headers', 'default_query', 'dict', 'disable_streaming', 'from_orm', 'generate', 'generate_prompt', 'get_config_jsonschema', 'get_graph', 'get_input_jsonschema', 'get_input_schema', 'get_lc_namespace', 'get_name', 'get_num_tokens', 'get_num_tokens_from_messages', 'get_output_jsonschema', 'get_output_schema', 'get_prompts', 'get_token_ids', 'groq_api_base', 'groq_api_key', 'groq_proxy', 'http_async_client', 'http_client', 'input_schema', 'invoke', 'is_lc_serializable', 'json', 'lc_attributes', 'lc_id', 'lc_secrets', 'map', 'max_retries', 'max_tokens', 'metadata', 'model_computed_fields', 'model_config', 'model_construct', 'model_copy', 'model_dump', 'model_dump_json', 'model_extra', 'model_fields', 'model_fields_set', 'model_json_schema', 'model_kwargs', 'model_name', 'model_parametrized_name', 'model_post_init', 'model_rebuild', 'model_validate', 'model_validate_json', 'model_validate_strings', 'n', 'name', 'output_schema', 'parse_file', 'parse_obj', 'parse_raw', 'pick', 'pipe', 'predict', 'predict_messages', 'raise_deprecation', 'rate_limiter', 'request_timeout', 'schema', 'schema_json', 'set_verbose', 'stop', 'stream', 'streaming', 'tags', 'temperature', 'to_json', 'to_json_not_implemented', 'transform', 'update_forward_refs', 'validate', 'validate_environment', 'verbose', 'with_alisteners', 'with_config', 'with_fallbacks', 'with_listeners', 'with_retry', 'with_structured_output', 'with_types']"
      ]
     },
     "execution_count": 10,
     "metadata": {},
     "output_type": "execute_result"
    }
   ],
   "source": [
    "dir(llm)"
   ]
  },
  {
   "cell_type": "code",
   "execution_count": 20,
   "metadata": {},
   "outputs": [],
   "source": [
    "messages = [\n",
    "    (\n",
    "        \"system\",\n",
    "        \"\"\"\n",
    "        Tu es un assistant spécialisé dans les résumés de transcripts youtube. \n",
    "\n",
    "        \"\"\",\n",
    "    ),\n",
    "    (\"human\", \"\"\"\n",
    "     Fais un résumé en français de ce transcript :\n",
    "     Resume le transcript suivant : \n",
    "        \n",
    "        [Music] what's up travelers ah beach to it what's up travelers it's liz and derek from means to travel and today we are back in the portsmouth area back at our airbnb and we decided just to do some quick little trips around portsmouth and kind of nearby areas we're going to start at portchester castle which is another english heritage site for us today and then we're gonna go to the town of winchester which has a ton of history so we'll talk to you when we get there but first we're gonna go check out this place okay so we started trying to figure out how to get into the castle and man we would have been terrible medieval invaders because we cannot even find a front entrance so um i just crossed like this river here it's not really a moat because i think it's natural um unless you think it's smoke oh yeah maybe because it does kind of go like around this castle here um again not a good invader don't even know my moats from my rivers um so i think we're going to go walk around the path in the opposite direction and wish us luck [Music] okay after walking around the entire castle we finally found the entrance [Music] okay also um their cafe has tapas which i was really impressed by okay so here we go walking [Music] in [Music] so we walked around literally the entire like outer walls [Music] we uh we can assure queen elizabeth that nobody is trying to invade other than us amass a huge today here ships were built and repaired and supplies of all kinds brought here and stockpiled one knight in 10 throughout the country was ordered to attend an armada was formed and on the 1st of may 1205 john took up residence here in the castle the preparations were made the soldiers were ready and willing but unfortunately the barons were not many of them had land in france as well as england and that made things a bit complicated for them all right we are entering the keep here at porchester it's so castle really cool we just listened to the audio guide on our phones which has tons of history portchester castle holds a commanding position at the head of a natural harbor making it the perfect location for anyone seeking to control the surrounding region the romans first constructed a castle here in the 3rd century aed as one of the line of coastal fortifications known as the forts of the saxon shore protecting roman britons from marauding saxon pirates the castle continued to be occupied throughout the saxon era all the way up to the norman conquest in 1066 at that point the existing norman structure began to take shape ultimately porchester became a royal castle under henry ii and remained property of the crown until 1632 in the intervening years it became a sometimes royal residence staging ground for repeated invasions of france and the site of a baronial mutiny after being sold by the crown porchester castle began to be used to house prisoners of war first housing dutch prisoners in 1655 and later prisoners in the napoleonic war from 1793 to 1815. during this time porchester housed up to 8 000 pows at any given time hey so we just toured through the keep here and now we're in um the inner bailey area as you can see there's nobody here with us there are a few people in um when we first got here in like the museum area in the keep but now we're just enjoying these old castle ruins and taking photos and we're about to go through the shop here before heading back out and hopefully heading over to winchester so it's been a really cool area lots of history plaques and what i was really delighted to see is there's like a whole room dedicated to the history of the caribbean or black prisoners that were sent here during the war between britain and france and like the late 1700s early 1800s so it was just really cool to learn just some black history while here too all right cheers [Music] hey so we just got in the car here at the castle we're about to head over to winchester but i wanted to just say a few things first so from a logistics standpoint we brought our own lunch um we actually brought this lunch box from the us so that we bought it actually in moab yeah and when we're doing like the national parks over there and we realized that on big road trips like we were doing then that it's great to be able to bring us packed lunch so we put everything in the like the little icy thing in the freezer and yes kept everything really cool so we have grapes and sandwich and a little bit of candy and i also put a roll of paper towels in here to act as napkins for us so just some little road trip tips for if you're driving around the uk or anywhere i also wanted to say that it was really cool to talk to the woman who is like working kind of the front entrance and shop because so we're here on a wednesday and it's a really nice day outside so really great day to go to the english heritage sites but there was nobody here and so we were talking to her a little bit about that and she was saying like this is one of the best years to go to these types of sites because a lot of it is outdoor still and they have hand sanitizer everywhere and um have like the social distancing requirements and on days like this especially on the weekdays there's nobody around um and she was even saying that she's like dipped to stonehenge she's like nobody's there she's like normally in the summer times they have 11 000 visitors a day and this year it's significantly less so she's like definitely get there while you guys are here in the uk so we will have to do that at some point but yeah we're about to eat our sandwiches now and just wanted to give those little tips and words of advice so this is a two-lane road um and it's beautiful we're in south house park oh no oh my god see folks that's how it's done this is so scary do the wave oh my god stop there [Music] the car is like you're going way too fast all right i am a scaredy cat but this is derek's third day driving in the uk [Music] so [Music] the hidden forest and we are on our way to winchester oh my gosh this is beautiful yeah it's telling you in that sign that it's gonna curve at the roundabout take the first exit this place has a roundabout [Music] police station it's a cute sign twenty a plenty [Music] [Music] so okay so i'm having like major anxiety riding in the passenger seat next to all these hedge walls in southbound national park with derek driving and he's just laughing at me and making fun of me and i'm having visions of what the next two months are gonna be like i'm so scared right now we're riding behind a semi truck that's at least setting the pace in a way that makes me feel slightly better than before say your prayers this is the oldest house in winchester built in 1450. it's a restaurant art supplies always make me feel so happy [Music] hubs always make me feel happy [Music] [Music] it's really pretty here this guy alfred the great is one of the powerhouses of english history credited with stitching together what would eventually become the kingdom of england or the land of the angles it was his descendants that would make winchester the first capital city of anglo-saxon england and cement its place in the history books the area surrounding winchester has a much more ancient heritage however having been the site of three iron age hill forts and becoming an important cultural center for the british belgae tribe prior to the roman conquest of britain it continued to thrive under the roman occupation and by the time of the roman abandonment was one of the largest cities on the island though not the largest or even second largest city in hampshire today winchester continues to be an important urban center in the region acting as hampshire's county town today winchester exudes a relaxed atmosphere hosting one of the largest farmers markets in england on the second and last sunday of each month hey everyone so we made it to winchester and we're walking along kind of this main pedestrian area in the downtown and it's 5 36 right now p.m and everything's closed which is a huge bummer i know that like a lot of smaller towns in the uk you kind of have to shut early and things might close at like five or six but like everything is already closed here except for the restaurant so i think we missed out on a little bit of fun just browsing and stuff but we get to do a little window shopping and then head back to portsmouth so hope you guys really like this montage of our walk through winchester this popular bronze statue imaginably titled horse and rider is one of three cast by world-renowned sculptor elizabeth frink in 1974. another the trio stands in london at the entrance to the royal academy of arts as the day drew to a close we made our way towards our last stop winchester cathedral although it was unfortunately closed by the time we arrived it is famous for being the final resting place of jane austen as well as the inspiration for the cathedral and ken fullet's pillars of the earth it's like your height and we're at our last stop of the day we're at winchester cathedral here in the town of winchester and um we're here right about dusk so it's just us and a few other maybe local college revelers hanging out around here but it's a really really pretty cathedral and has a lot of great kind of fall foliage trees if you walk around the ground and this town itself also has um a college so we've been walking around and seeing a lot of younger people here you can kind of hear them so it gives it a little bit more of a young feel from a lot of the other places that we've been touring around so it's a really cool place to just come visit and i really wish we had a little bit more time here in winchester but back to port so liz what are we doing we here searching for restrooms right here see a toilet use a toilet this is where you went i got sidetracked by a river typical story all right it is time for me to drive home for the first time in the rain in england hey travelers don't forget to subscribe and let's hang out more here are some links to other helpful travel videos on my channel and press that notification bell so you don't miss any new and awesome travel videos to come you\n",
    "     \"\"\"),\n",
    "]\n",
    "ai_msg = llm.invoke(messages)\n"
   ]
  },
  {
   "cell_type": "code",
   "execution_count": 21,
   "metadata": {},
   "outputs": [
    {
     "name": "stdout",
     "output_type": "stream",
     "text": [
      "Voici un résumé en français du transcript :\n",
      "\n",
      "Liz et Derek, deux voyageurs de \"Means to Travel\", sont de retour dans la région de Portsmouth, où ils ont loué un Airbnb. Ils décident de faire quelques petites excursions dans la région et commencent par visiter le château de Portchester, un site patrimonial anglais. Malgré les difficultés pour trouver l'entrée, ils parviennent à explorer le château et apprennent beaucoup sur son histoire, qui remonte à la construction romaine en 3e siècle.\n",
      "\n",
      "Ils découvrent que le château a été occupé par les Romains, les Saxons et les Normands, et\n"
     ]
    }
   ],
   "source": [
    "print(ai_msg.content)"
   ]
  },
  {
   "cell_type": "code",
   "execution_count": null,
   "metadata": {},
   "outputs": [],
   "source": [
    "\n",
    "\n",
    "\n",
    "\n",
    "# Fonction de résumé d'un transcript YouTube\n",
    "def summarize_transcript(transcript: str) -> str:\n",
    "    \"\"\"Résumé d'un transcript YouTube avec LangChain.\"\"\"\n",
    "    if transcript is None or not transcript.strip():  # Vérifie si transcript est None ou vide\n",
    "        return \"Transcript vide ou non disponible.\"  # Message par défaut si le transcript est invalide\n",
    "    try:\n",
    "        summary = summary_chain.run(transcript)\n",
    "        return summary.strip()\n",
    "    except Exception as e:\n",
    "        return f\"Erreur lors de la génération du résumé : {str(e)}\"\n",
    "\n",
    "# Exemple d'appel\n",
    "transcript_text = \"\"\"\n",
    "YouTube est une plateforme de partage de vidéos utilisée par des millions de créateurs de contenu.\n",
    "Elle permet de publier, visionner, commenter et partager des vidéos sur une grande variété de sujets.\n",
    "\"\"\"\n",
    "summary = summarize_transcript(transcript_text)\n",
    "print(\"Résumé :\", summary)\n",
    "\n"
   ]
  }
 ],
 "metadata": {
  "kernelspec": {
   "display_name": "env",
   "language": "python",
   "name": "python3"
  },
  "language_info": {
   "codemirror_mode": {
    "name": "ipython",
    "version": 3
   },
   "file_extension": ".py",
   "mimetype": "text/x-python",
   "name": "python",
   "nbconvert_exporter": "python",
   "pygments_lexer": "ipython3",
   "version": "3.10.16"
  }
 },
 "nbformat": 4,
 "nbformat_minor": 2
}
